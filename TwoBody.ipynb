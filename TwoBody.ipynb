{
 "cells": [
  {
   "cell_type": "markdown",
   "id": "2380d12a",
   "metadata": {},
   "source": [
    "# Notebook for Two Body Problem to Small N body problem\n",
    "\n",
    "## Derivation of the differential equations\n",
    "\n",
    "First, for two bodies, each creates a force on the other according to \n",
    "\n",
    "$$ \\ddot{\\vec{r}_1} = -Gm_1 m_2\\frac{ \\vec{r}_1 - \\vec{r}_2}{|\\vec{r}_1 - \\vec{r}_2|^3}$$\n",
    "\n",
    "$$ \\ddot{\\vec{r}_2} = Gm_1 m_2\\frac{ \\vec{r}_1 - \\vec{r}_2}{|\\vec{r}_1 - \\vec{r}_2|^3}$$\n",
    "\n",
    "For $N$ bodies, we would find \n",
    "\n",
    "$$ \\ddot{\\vec{r}_i} = - \\sum_{j=1}^{N}Gm_i m_j\\frac{ \\vec{r}_i - \\vec{r}_j}{|\\vec{r}_i - \\vec{r}_j|^3}$$"
   ]
  },
  {
   "cell_type": "code",
   "execution_count": null,
   "id": "ed85b1b4",
   "metadata": {},
   "outputs": [],
   "source": []
  }
 ],
 "metadata": {
  "kernelspec": {
   "display_name": "Python 3",
   "language": "python",
   "name": "python3"
  },
  "language_info": {
   "codemirror_mode": {
    "name": "ipython",
    "version": 3
   },
   "file_extension": ".py",
   "mimetype": "text/x-python",
   "name": "python",
   "nbconvert_exporter": "python",
   "pygments_lexer": "ipython3",
   "version": "3.8.3"
  }
 },
 "nbformat": 4,
 "nbformat_minor": 5
}
