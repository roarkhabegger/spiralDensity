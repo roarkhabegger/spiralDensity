{
 "cells": [
  {
   "cell_type": "markdown",
   "id": "6389c5b2",
   "metadata": {},
   "source": [
    "We've got our **problem**, shown below: \n",
    "\n",
    "$$ \\frac{1}{r}\\frac{\\partial }{\\partial r} \\left( r \\frac{\\partial \\Phi}{\\partial r}\\right)\n",
    "   = 4\\pi G \\int_{-\\infty}^{\\infty} dv_\\phi \\int_{-\\infty}^{\\infty} dv_r f(r,v_\\phi,v_r)$$\n",
    "   \n",
    "$$  v_r\\frac{\\partial f}{\\partial r} \n",
    "    + \\left( \\frac{v_\\phi^2}{r} - \\frac{\\partial \\Phi}{\\partial r}\\right) \\frac{\\partial f}{\\partial v_r}\n",
    "    + \\frac{v_r v_\\phi}{r} \\frac{\\partial f}{\\partial v_\\phi} = 0 $$"
   ]
  },
  {
   "cell_type": "markdown",
   "id": "92dfa745",
   "metadata": {},
   "source": [
    "Where $r,v_\\phi,v_r$ are our dependent variables. We want \n",
    "$$\\lim_{r\\rightarrow \\infty} f = 0$$ \n",
    "\n",
    "Also, we want \n",
    "$$\\lim_{|v_r|\\rightarrow \\infty} f = 0$$\n",
    "\n",
    "$$\\lim_{|v_\\phi|\\rightarrow \\infty} f = 0$$"
   ]
  },
  {
   "cell_type": "code",
   "execution_count": null,
   "id": "4d844f86",
   "metadata": {},
   "outputs": [],
   "source": []
  }
 ],
 "metadata": {
  "kernelspec": {
   "display_name": "Python 3 (ipykernel)",
   "language": "python",
   "name": "python3"
  },
  "language_info": {
   "codemirror_mode": {
    "name": "ipython",
    "version": 3
   },
   "file_extension": ".py",
   "mimetype": "text/x-python",
   "name": "python",
   "nbconvert_exporter": "python",
   "pygments_lexer": "ipython3",
   "version": "3.10.6"
  }
 },
 "nbformat": 4,
 "nbformat_minor": 5
}
