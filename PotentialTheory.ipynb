{
 "cells": [
  {
   "cell_type": "markdown",
   "id": "91885d1a",
   "metadata": {},
   "source": [
    "# Potential Theory\n",
    "\n",
    "Instead of working with $N$ objects, it can be easier to sum all the contributions of masses into a smooth gravitational potential function, $\\Phi$.\n",
    "\n",
    "Defining the gravitational potential as \n",
    "\n",
    "$$\\Phi\\left(\\vec{x}\\right) = -G \\int d^3x' \\, \\frac{\\rho\\left(\\vec{x}'\\right)}{\\left| \\vec{x}' - \\vec{x}\\right|}$$\n",
    "\n",
    "This solves Poisson's equation:\n",
    "\n",
    "$$ \\nabla^2 \\Phi = 4\\pi G \\rho $$\n"
   ]
  },
  {
   "cell_type": "markdown",
   "id": "618ad70c",
   "metadata": {},
   "source": [
    "Let's find the potential of a Homogenous sphere of mass $M$ and radius $R$:\n",
    "\n",
    "$$ \\rho = \\frac{M}{\\frac{4\\pi}{3} R^3}$$\n",
    "\n",
    "We integrate this over all space, centered on the sphere and using spherical coordinates:\n",
    "\n",
    "$$\\Phi\\left(\\vec{x}\\right) = -G \\int_0^\\infty dr' \\int_0^{2\\pi }d\\phi' \\int_0^{\\pi}d\\theta' \\, \\frac{r'^2 \\sin \\theta' \\cdot \\rho\\left(\\vec{x}'\\right)}{\\left| \\vec{x}' - \\vec{x}\\right|}\n",
    "=  -\\frac{3GM}{4\\pi R^3}\\int_0^R dr' \\int_0^{2\\pi }d\\phi' \\int_0^{\\pi}d\\theta' \\, \\frac{r'^2 \\sin \\theta'}{\\left| \\vec{x}' - \\vec{x}\\right|}$$\n"
   ]
  },
  {
   "cell_type": "markdown",
   "id": "e3e54ee8",
   "metadata": {},
   "source": [
    "Now, how do we deal with the $\\left| \\vec{x}' - \\vec{x}\\right|$ term? Well, in the spherical integration, we can choose to point the $z$ axis along $\\vec{x}$, which the angle $\\theta'$ is defined by, without loss of generality. Then,  $\\left| \\vec{x}' - \\vec{x}\\right|$ will be independent of $\\phi$. Specifically, it will be\n",
    "\n",
    "$$ \\left| \\vec{x}' - \\vec{x}\\right| = \\sqrt{(r -r'\\cos\\theta')^2 + (r' \\sin \\theta')^2} = \\sqrt{r^2 -2rr'\\cos\\theta' + r'^2} $$\n",
    "\n",
    "Note, this has no $\\phi'$ dependence! So, the potential is \n",
    "\n",
    "$$\\Phi\\left(\\vec{x}\\right)\n",
    "=  -\\frac{3GM}{2 R^3}\\int_0^R dr' \\int_{-1}^{1}d(\\cos \\theta') \\, r' \\left[ \\left(\\frac{r}{r'}\\right)^2 -2\\left(\\frac{r}{r'}\\right)\\cos\\theta' + 1\\right]^{-1/2} \n",
    " =\\Phi(r)$$\n",
    "\n",
    "Where we have already done the $\\phi'$ integral, and noted that there is no $\\phi$ or $\\theta$ dependence. I.e. the potential $\\Phi$ only varies radially. Also, we used the fact that $-\\sin \\theta' \\cdot d\\theta' = \\cos \\theta'$ to change the integration variable:\n",
    "$$\\Phi(r)\n",
    "=  -\\frac{3GM}{2 R^3}\\int_0^R dr' \\int_{-1}^{1}d\\mu \\, r' \\left[ \\left(\\frac{r}{r'}\\right)^2 -2\\left(\\frac{r}{r'}\\right)\\mu + 1\\right]^{-1/2} $$"
   ]
  },
  {
   "cell_type": "markdown",
   "id": "905da7bc",
   "metadata": {},
   "source": [
    "For the $\\theta'$ integral, we can use a u substitution with \n",
    "\n",
    "$$ u(\\mu) = \\left(\\frac{r}{r'}\\right)^2 -2\\left(\\frac{r}{r'}\\right)\\mu + 1$$\n",
    "$$ du =  -2\\left(\\frac{r}{r'}\\right)d \\mu $$  \n",
    "\n",
    "Note that the bounds are then \n",
    "$$ u(1) = \\left(\\frac{r}{r'}\\right)^2 -2\\left(\\frac{r}{r'}\\right) + 1 = \\left( \\frac{r}{r'} - 1\\right)^2 $$\n",
    "$$ u(-1) = \\left(\\frac{r}{r'}\\right)^2 +2\\left(\\frac{r}{r'}\\right) + 1 = \\left( \\frac{r}{r'} + 1\\right)^2 $$\n",
    "\n",
    "and get\n",
    "\n",
    "$$\\Phi(r)\n",
    "=  -\\frac{3GM}{2 R^3}\\int_0^R dr'\\,r' \\int_{u(-1)}^{u(1)}du \\,\\frac{(-1)r'}{2r} \\left[ u \\right]^{-1/2} \n",
    "=   -\\frac{3GM}{2 R^3}\\int_0^R dr'\\,r'  \\frac{(-1)r'}{2r}  \\left[ 2u^{1/2} \\right]^{u(1)}_{u(-1)} $$\n",
    "\n",
    "$$\\Phi(r)\n",
    "=   \\frac{3GM}{2 R^3}\\int_0^R dr'\\,r'  \\frac{r'}{r}  \\left( \\left| \\frac{r}{r'} - 1\\right| - \\left| \\frac{r}{r'} + 1\\right| \\right) $$"
   ]
  },
  {
   "cell_type": "markdown",
   "id": "60e3085d",
   "metadata": {},
   "source": [
    "Since $r$ and $r'$ are always positive, we can simplify the above\n",
    "\n",
    "$$\\Phi(r)\n",
    "=   \\frac{3GM}{2 R^3}\\int_0^R dr' \\, r' \\left( \\left| 1 -  \\frac{r'}{r} \\right| - 1 -  \\frac{r'}{r}  \\right) $$\n",
    "\n",
    "But we still need to deal with this by considering two different cases. If $r > R \\geq r' > 0$, then the the  absolute value signs can be dropped, as the quantity will always be positive:\n",
    "\n",
    "\n",
    "$$\\Phi(r>R)\n",
    "=   \\frac{3GM}{2 R^3}\\int_0^R dr' \\, r' \\left( 1 -  \\frac{r'}{r}  - 1 -  \\frac{r'}{r}  \\right)\n",
    "=  \\frac{-3GM}{R^3}\\int_0^R dr'\\frac{r'^2}{r} = \\frac{-3GM}{R^3 } \\frac{1}{r} \\frac{R^3}{3} = \\frac{-GM}{r }$$\n",
    "\n",
    "Which is what we expected - it doesn't matter whether a point mass is a point or a homogenous sphere! \n",
    "\n",
    "However, inside the sphere, with $R > r > 0$, the integral is more complicated. We have to split it up:\n",
    "\n",
    "$$\\Phi(r<R)\n",
    "=   \\frac{3GM}{2 R^3}\\int_0^R dr' \\, r' \\left( \\left| 1 -  \\frac{r'}{r} \\right| - 1 -  \\frac{r'}{r}  \\right) \n",
    "= \\frac{3GM}{2 R^3}\n",
    "\\left[ \\int_r^R dr' \\, r' \\left( \\left| 1 -  \\frac{r'}{r} \\right| - 1 -  \\frac{r'}{r}  \\right) +\n",
    "\\int_0^r dr' \\, r' \\left( \\left| 1 -  \\frac{r'}{r} \\right| - 1 -  \\frac{r'}{r}  \\right)  \n",
    "\\right]$$\n",
    "\n",
    "In the first region, with $r'>r$, we need to use the absolute value to change the sign of the expression. Then, in the second region, $r>r'$ we can take the absolute value bars away:\n",
    "\n",
    "$$\\Phi(r<R)\n",
    "= \\frac{3GM}{2 R^3}\n",
    "\\left[ \\int_r^R dr' \\, r' \\left( \\frac{r'}{r} -1 - 1 -  \\frac{r'}{r}  \\right) +\n",
    "\\int_0^r dr' \\, r' \\left( 1 -  \\frac{r'}{r}  - 1 -  \\frac{r'}{r}  \\right)  \n",
    "\\right] $$\n",
    "\n",
    "$$\\Phi(r<R)\n",
    "= \\frac{3GM}{2 R^3}\n",
    "\\left[ -2 \\int_r^R dr' \\, r'  +\n",
    "-2 \\int_0^r dr' \\, \\frac{r'^2}{r}   \n",
    "\\right]\n",
    "= \\frac{3GM}{2 R^3}\n",
    "\\left[ -\\left(R^2 - r^2 \\right)   \n",
    "-\\frac{2}{3r}r^3   \n",
    "\\right] $$\n",
    "\n",
    "$$\\Phi(r<R)\n",
    "= \\frac{GM}{2 R^3}\n",
    "\\left[ r^2-3R^2  \n",
    "\\right] = - \\frac{GM}{2 R^3}\n",
    "\\left[ 3R^2  -r^2\\right] $$\n",
    "\n",
    "This gives a final expression for the potential as \n",
    "\n",
    "$$ \\Phi(r) = - \\frac{GM}{R} \\Bigg\\{ \\begin{matrix} \\frac{R}{r} & r > R \\\\ \n",
    "\\frac{1}{2}\\left[ 3  -\\left(\\frac{r}{R}\\right)^2\\right]  & r< R \\end{matrix} $$\n",
    "\n",
    "Note that this is continuous at $r=R$, and the coefficient we have in the front is the potential at $r=R$:\n",
    "\n",
    "$$ \\Phi(r) = \\Phi(r=R) \\Bigg\\{ \\begin{matrix} \\frac{R}{r} & r > R \\\\ \n",
    "\\frac{1}{2}\\left[ 3  -\\left(\\frac{r}{R}\\right)^2\\right]  & r< R \\end{matrix} $$"
   ]
  },
  {
   "cell_type": "markdown",
   "id": "0acb4a8e",
   "metadata": {},
   "source": [
    "It is not a coincidence that this expression for $r<R$ is the Second Legendre polynomial! We can expand the $1/\\left| \\vec{x} - \\vec{x}'\\right|$ expression in terms of the Legendre polynomials: https://en.wikipedia.org/wiki/Legendre_polynomials#Expanding_a_1/r_potential"
   ]
  },
  {
   "cell_type": "code",
   "execution_count": null,
   "id": "ab198c89",
   "metadata": {},
   "outputs": [],
   "source": []
  }
 ],
 "metadata": {
  "kernelspec": {
   "display_name": "Python 3",
   "language": "python",
   "name": "python3"
  },
  "language_info": {
   "codemirror_mode": {
    "name": "ipython",
    "version": 3
   },
   "file_extension": ".py",
   "mimetype": "text/x-python",
   "name": "python",
   "nbconvert_exporter": "python",
   "pygments_lexer": "ipython3",
   "version": "3.8.3"
  }
 },
 "nbformat": 4,
 "nbformat_minor": 5
}
