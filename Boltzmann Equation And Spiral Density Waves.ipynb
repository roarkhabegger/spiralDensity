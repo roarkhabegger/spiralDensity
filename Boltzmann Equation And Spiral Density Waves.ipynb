{
 "cells": [
  {
   "cell_type": "markdown",
   "id": "8c2b0a70",
   "metadata": {},
   "source": [
    "# Boltzmann Equation\n",
    "\n",
    "Goal: Apply perturbation theory to solve for the distribution function $f(\\vec{x},\\vec{v},t)$ stars in a disk galaxy. \n",
    "\n",
    "The evolution of the distribution function of a system is determined by the Boltzmann equation:\n",
    "\n",
    "$$ \\frac{\\partial f}{\\partial t} + \\vec{v} \\cdot \\vec{\\nabla} f + \\sum_{i=1}^{3}\\dot{v}_i \\frac{\\partial f}{\\partial v_i}  \n",
    "= \\left( \\frac{\\partial f}{\\partial t} \\right)_\\mathrm{coll} $$\n",
    "\n",
    "where the right hand side contains terms related to the collision interaction of particles. Assuming the system is collisionless, the right hand side vanishes. This new equation is known as the Vlasov Equation:\n",
    "\n",
    "$$ \\frac{\\partial f}{\\partial t} + \\vec{v} \\cdot \\vec{\\nabla} f + \\sum_{i=1}^{3}\\dot{v}_i \\frac{\\partial f}{\\partial v_i}  = 0  $$\n",
    "\n"
   ]
  },
  {
   "cell_type": "markdown",
   "id": "c402e90f",
   "metadata": {},
   "source": [
    "This equation can be applied to a system of star 'particles' such that the distribution function is for an entire system of many stars, like the galaxy. The only force in that problem is gravity. \n",
    "\n",
    "Since we are interested in a disk galaxy, cylindrical coordinates would make sense. The gradient operator in cylindrical coordinates is \n",
    "\n",
    "$$ \\vec{\\nabla} f = \\frac{\\partial f}{\\partial r} \\hat{r}\n",
    "                     + \\frac{1}{r}\\frac{\\partial f}{\\partial \\phi} \\hat{\\phi}\n",
    "                     + \\frac{\\partial f}{\\partial z} \\hat{z}$$\n",
    "\n",
    "Therfore, the equation is \n",
    "$$ \\frac{\\partial f}{\\partial t} \n",
    "    + v_r \\frac{\\partial f}{\\partial r}\n",
    "    + \\frac{v_\\phi}{r}\\frac{\\partial f}{\\partial \\phi} \n",
    "    + v_z\\frac{\\partial f}{\\partial z} \n",
    "    + \\dot{v}_r \\frac{\\partial f}{\\partial  v_r}\n",
    "    + \\dot{v}_\\phi \\frac{\\partial f}{\\partial  v_\\phi}\n",
    "    + \\dot{v}_z \\frac{\\partial f}{\\partial  v_z} = 0  $$"
   ]
  },
  {
   "cell_type": "markdown",
   "id": "7ad66164",
   "metadata": {},
   "source": [
    "The above partial differential equation is still not completely useful for our problem. While $f(r,\\phi,z,v_r,v_\\phi,v_z,t)$ is defined clearly with its dependent variables, the time derivatives $\\dot{v}_i$ are not.\n",
    "\n",
    "To find the time derivatives of the particle velocities, we need to determine the force $\\vec{F}$ on each particle. This is \n",
    "\n",
    "$$ \\frac{1}{m}\\vec{F} = \\frac{\\partial }{\\partial t} \\vec{v}$$\n",
    "\n",
    "In cylindrical coordinates, this becomes \n",
    "\n",
    "$$ \\frac{1}{m}\\vec{F} = \\frac{\\partial }{\\partial t} \\left(v_r \\hat{r} + v_\\phi \\hat{\\phi} + v_z \\hat{z} \\right)$$\n",
    "\n",
    "$$ \\frac{1}{m}\\vec{F} = \\dot{v}_r \\hat{r} + v_r  \\dot{\\hat{r}}\n",
    "                      + \\dot{v}_\\phi \\hat{\\phi} +  v_\\phi \\dot{\\hat{\\phi}}\n",
    "                      + \\dot{v}_z \\hat{z} + v_z \\dot{\\hat{z}}$$\n",
    "                    "
   ]
  },
  {
   "cell_type": "markdown",
   "id": "c9d993d3",
   "metadata": {},
   "source": [
    "Let's deal with the $\\dot{\\hat{r}}$ component. If we change location in space along a radial direction, $\\hat{r}$ stays the same. If we change along $\\hat{z}$, then it stays the same. However, when we move some distance $v_\\phi \\delta t$ in the $\\phi$ direction, we change $\\hat{r}$. Specifically, the new and old $\\hat{r}$ will be \n",
    "\n",
    "$$ \\hat{r}_\\mathrm{new} = \\hat{r}_\\mathrm{old} + v_\\phi \\delta t \\hat{\\phi}$$\n",
    "\n",
    "$$ \\hat{r}_\\mathrm{new}-\\hat{r}_\\mathrm{old} = v_\\phi \\delta t \\hat{\\phi}$$\n",
    "\n",
    "$$ \\delta \\hat{r} = v_\\phi \\delta t \\hat{\\phi}$$\n",
    "\n",
    "$$ \\frac{\\delta \\hat{r}}{\\delta t} = v_\\phi \\hat{\\phi}$$\n",
    "\n",
    "$$ \\dot{\\hat{r}} = v_\\phi \\hat{\\phi}$$"
   ]
  },
  {
   "cell_type": "markdown",
   "id": "89d116ce",
   "metadata": {},
   "source": [
    "Now let's deal with the $\\dot{\\hat{\\phi}}$. Similarly, moving in the $\\hat{z}$ direction does not change the vector. Moving in the radial direction $\\hat{r}$ does not change the vector. However, moving in the $\\hat{\\phi}$ direction does. Specifically, the new and old $\\hat{\\phi}$ are related, after a change $v_\\phi \\delta t $ in the $\\hat{\\phi}$ direction by \n",
    "\n",
    "$$ \\hat{\\phi}_\\mathrm{new} = \\hat{\\phi}_\\mathrm{old} - v_\\phi \\delta t \\hat{r}$$\n",
    "\n",
    "$$ \\dot{\\hat{\\phi}} = -v_\\phi \\hat{r}$$ \n",
    "\n",
    "Plugging these expressions into the force equation, we get \n",
    "\n",
    "$$ \\frac{1}{m}\\vec{F} = \\dot{v}_r \\hat{r} + v_r v_\\phi \\hat{\\phi}\n",
    "                      + \\dot{v}_\\phi \\hat{\\phi} -  v_\\phi v_\\phi \\hat{r}\n",
    "                      + \\dot{v}_z \\hat{z} $$\n",
    " \n",
    "$$ \\frac{1}{m}\\vec{F} = \\left( \\dot{v}_r -  v_\\phi^2\\right) \\hat{r} \n",
    "                      + \\left( \\dot{v}_\\phi + v_r v_\\phi \\right)\\hat{\\phi}\n",
    "                      + \\dot{v}_z \\hat{z} $$\n",
    "                      \n",
    "Notice $\\dot{\\hat{z}}$ vanishes, because $\\hat{z}$ is the same everywhere in position space.\n"
   ]
  },
  {
   "cell_type": "markdown",
   "id": "c621a90c",
   "metadata": {},
   "source": [
    "Now, what is the force on a particle? Well, that is an interesting question. We only want the gravitational force on a particle. Therefore, for a system of $N$ particles, the force on some test particle is (not one of the $N$ particles, but some new particle. Also note that subscripts denote particle number, *not* coordinate direction) \n",
    "\n",
    "$$ \\vec{F}_t = -G m_t\\sum_{j=1}^{N} m_j \\frac{ \\vec{r}_j - \\vec{r}_t }{\\left| \\vec{r}_j - \\vec{r}_t \\right|^3} $$\n",
    "\n",
    "$$ \\frac{1}{m_t}\\vec{F}_t = -G\\sum_{j=1}^{N} m_j \\frac{ \\vec{r}_j - \\vec{r}_t }{\\left| \\vec{r}_j - \\vec{r}_t \\right|^3} $$\n",
    "\n",
    "This is complicated. How do we get the force for the Boltzmann equation for this? The force changes depending on where each particle is! \n",
    "\n",
    "What if we take the divergence of this force with respect to the position of the test particle $\\vec{r}_t = \\vec{r}$? This might seem like a wild, silly guess, but it comes from the following definition of the Dirac Delta function (not really a function mathematically speaking, but we don't need to be pedantic):\n",
    "\n",
    "$$ \\delta(\\vec{r}) = \\frac{1}{4\\pi} \\vec{\\nabla} \\cdot \\left(\\frac{\\vec{r}}{\\left| \\vec{r} \\right|^3} \\right)$$ \n",
    "\n",
    "Or, adding a constant postion $\\vec{a}$ to $\\vec{r}$, we get\n",
    "\n",
    "$$ \\delta(\\vec{r}+\\vec{a}) = \\frac{1}{4\\pi} \\vec{\\nabla} \\cdot \\left(\\frac{\\vec{r} + \\vec{a}}{\\left| \\vec{r} + \\vec{a} \\right|^3} \\right)$$"
   ]
  },
  {
   "cell_type": "markdown",
   "id": "fee91907",
   "metadata": {},
   "source": [
    "Using this idea, let's apply it to our force equation: \n",
    "\n",
    "$$ \\frac{1}{m_t} \\vec{\\nabla} \\cdot \\vec{F}_t = -G \\sum_{j=1}^{N} m_j \\vec{\\nabla} \\cdot \\frac{ \\vec{r}_j - \\vec{r} }{\\left| \\vec{r}_j - \\vec{r} \\right|^3} $$\n",
    "\n",
    "$$ \\frac{1}{m_t}\\vec{\\nabla} \\cdot \\vec{F}_t = -G  \\sum_{j=1}^{N} m_j 4\\pi \\delta(\\vec{r}_j - \\vec{r}) \n",
    "= -4\\pi G\\sum_{j=1}^{N}m_j \\delta(\\vec{r}_j - \\vec{r}) $$"
   ]
  },
  {
   "cell_type": "markdown",
   "id": "86d9e2c5",
   "metadata": {},
   "source": [
    "The right hand side actually contins a sum over all the $N$ masses in the system. It is the mass density of the system, as a function of $\\vec{r}$!\n",
    "\n",
    "$$ \\rho(\\vec{r}) = \\sum_{j=1}^{N}m_j \\delta(\\vec{r}_j - \\vec{r}) $$\n",
    "\n",
    "Therefore, we get \n",
    "$$ \\frac{1}{m}\\vec{\\nabla} \\cdot \\vec{F} =  -4\\pi G \\rho(\\vec{r}) $$\n",
    "\n",
    "This equation is hiding Poisson's equation! Assume that $\\vec{F}/m$ can be written as the gradient of a scalar potential $\\Phi$ (because gravity is a conservative force), and you get \n",
    "\n",
    "$$\\vec{F}\\frac{1}{m} = - \\vec{\\nabla}\\Phi$$\n",
    "\n",
    "$$ \\vec{\\nabla} \\cdot \\vec{\\nabla}\\Phi  =  4\\pi G \\rho(\\vec{r}) $$\n",
    "\n",
    "$$ \\nabla^2 \\Phi  =  4\\pi G \\rho $$"
   ]
  },
  {
   "cell_type": "markdown",
   "id": "495d9b21",
   "metadata": {},
   "source": [
    "Now, with that differential equation, we could calculate $\\rho$ at any point using the distribution function $f$, and find the potential $\\Phi$, which gives a force in cylindrical coodinates\n",
    "\n",
    "$$ \\frac{1}{m}\\vec{F} = - \\vec{\\nabla}\\Phi = - \\frac{\\partial \\Phi}{\\partial r}\\hat{r}\n",
    "                                             - \\frac{1}{r}\\frac{\\partial \\Phi}{\\partial \\phi}\\hat{\\phi}\n",
    "                                             - \\frac{\\partial \\Phi}{\\partial z}\\hat{z}$$\n",
    "\n",
    "Combining this with our previous expression for the force means:\n",
    "\n",
    "$$ - \\frac{\\partial \\Phi}{\\partial r}\\hat{r}\n",
    "   - \\frac{1}{r}\\frac{\\partial \\Phi}{\\partial \\phi}\\hat{\\phi}\n",
    "   - \\frac{\\partial \\Phi}{\\partial z}\\hat{z}\n",
    "   = \\left( \\dot{v}_r -  v_\\phi^2\\right) \\hat{r} \n",
    "   + \\left( \\dot{v}_\\phi + v_r v_\\phi \\right)\\hat{\\phi}\n",
    "   + \\dot{v}_z \\hat{z} \n",
    "   $$\n",
    "   \n",
    "$$ \\dot{v}_r  = v_\\phi^2 - \\frac{\\partial \\Phi}{\\partial r} $$ \n",
    "\n",
    "$$ \\dot{v}_\\phi = - \\frac{1}{r}\\frac{\\partial \\Phi}{\\partial \\phi} - v_r v_\\phi $$ \n",
    "\n",
    "$$ \\dot{v}_z  = - \\frac{\\partial \\Phi}{\\partial z} $$ \n",
    " "
   ]
  },
  {
   "cell_type": "code",
   "execution_count": null,
   "id": "1f82a161",
   "metadata": {},
   "outputs": [],
   "source": []
  }
 ],
 "metadata": {
  "kernelspec": {
   "display_name": "Python 3 (ipykernel)",
   "language": "python",
   "name": "python3"
  },
  "language_info": {
   "codemirror_mode": {
    "name": "ipython",
    "version": 3
   },
   "file_extension": ".py",
   "mimetype": "text/x-python",
   "name": "python",
   "nbconvert_exporter": "python",
   "pygments_lexer": "ipython3",
   "version": "3.10.6"
  }
 },
 "nbformat": 4,
 "nbformat_minor": 5
}
